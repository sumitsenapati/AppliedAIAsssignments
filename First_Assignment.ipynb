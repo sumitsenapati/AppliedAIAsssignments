{
 "cells": [
  {
   "cell_type": "markdown",
   "metadata": {
    "id": "942weLH_6KU2"
   },
   "source": [
    "**1. Write a function that inputs a number and prints the multiplication table of that number**"
   ]
  },
  {
   "cell_type": "code",
   "execution_count": 1,
   "metadata": {
    "colab": {
     "base_uri": "https://localhost:8080/"
    },
    "id": "68lYuEGC6RSZ",
    "outputId": "972bc12f-53a7-41c7-9d0f-2a19a531dbaa"
   },
   "outputs": [
    {
     "name": "stdout",
     "output_type": "stream",
     "text": [
      "Enter a number to get the multiplication table: 9\n",
      "9 * 1 = 9\n",
      "9 * 2 = 18\n",
      "9 * 3 = 27\n",
      "9 * 4 = 36\n",
      "9 * 5 = 45\n",
      "9 * 6 = 54\n",
      "9 * 7 = 63\n",
      "9 * 8 = 72\n",
      "9 * 9 = 81\n",
      "9 * 10 = 90\n"
     ]
    }
   ],
   "source": [
    "def mult_table(num):\n",
    "  for ele in range(1,11):\n",
    "    print(num, '*', ele , '=', num * ele)\n",
    "\n",
    "mult_table(int(input(\"Enter a number to get the multiplication table: \")))"
   ]
  },
  {
   "cell_type": "code",
   "execution_count": 3,
   "metadata": {
    "colab": {
     "base_uri": "https://localhost:8080/"
    },
    "id": "ENSdxA3M4bix",
    "outputId": "490b1c5d-2f45-4ec3-8a7f-64ea6c2be070"
   },
   "outputs": [
    {
     "name": "stdout",
     "output_type": "stream",
     "text": [
      "Enter a number to get the multiplication table: 7\n",
      "7 * 1 = 7\n",
      "7 * 2 = 14\n",
      "7 * 3 = 21\n",
      "7 * 4 = 28\n",
      "7 * 5 = 35\n",
      "7 * 6 = 42\n",
      "7 * 7 = 49\n",
      "7 * 8 = 56\n",
      "7 * 9 = 63\n",
      "7 * 10 = 70\n"
     ]
    }
   ],
   "source": [
    "#using Numpy\n",
    "import numpy as np\n",
    "\n",
    "def mult_table(num):\n",
    "  for ele in np.arange(1,11):\n",
    "    print(num, '*', ele , '=', num * ele)\n",
    "\n",
    "mult_table(int(input(\"Enter a number to get the multiplication table: \")))"
   ]
  },
  {
   "cell_type": "markdown",
   "metadata": {
    "id": "fL8wezeM72rN"
   },
   "source": [
    "**2. Write a program to print twin primes less than 1000. If two consecutive odd numbers are\n",
    "both prime then they are known as twin primes**"
   ]
  },
  {
   "cell_type": "code",
   "execution_count": 7,
   "metadata": {
    "colab": {
     "base_uri": "https://localhost:8080/"
    },
    "id": "1rmjJKbMikIp",
    "outputId": "930a7746-2942-46da-e1b4-e58c009c5631"
   },
   "outputs": [
    {
     "name": "stdout",
     "output_type": "stream",
     "text": [
      "Twin Prime 3 5\n",
      "Twin Prime 5 7\n",
      "Twin Prime 11 13\n",
      "Twin Prime 17 19\n",
      "Twin Prime 29 31\n",
      "Twin Prime 41 43\n",
      "Twin Prime 59 61\n",
      "Twin Prime 71 73\n",
      "Twin Prime 101 103\n",
      "Twin Prime 107 109\n",
      "Twin Prime 137 139\n",
      "Twin Prime 149 151\n",
      "Twin Prime 179 181\n",
      "Twin Prime 191 193\n",
      "Twin Prime 197 199\n",
      "Twin Prime 227 229\n",
      "Twin Prime 239 241\n",
      "Twin Prime 269 271\n",
      "Twin Prime 281 283\n",
      "Twin Prime 311 313\n",
      "Twin Prime 347 349\n",
      "Twin Prime 419 421\n",
      "Twin Prime 431 433\n",
      "Twin Prime 461 463\n",
      "Twin Prime 521 523\n",
      "Twin Prime 569 571\n",
      "Twin Prime 599 601\n",
      "Twin Prime 617 619\n",
      "Twin Prime 641 643\n",
      "Twin Prime 659 661\n",
      "Twin Prime 809 811\n",
      "Twin Prime 821 823\n",
      "Twin Prime 827 829\n",
      "Twin Prime 857 859\n",
      "Twin Prime 881 883\n"
     ]
    }
   ],
   "source": [
    "import numpy as np\n",
    "range_num = 1000\n",
    "twin_prime_activate = False\n",
    "twin_prime_count = 0\n",
    "Prime_Number_List = []\n",
    "for ele in np.arange(2,range_num):\n",
    "  #print('ele',ele)\n",
    "  num = 2\n",
    "  while (num <= ele):\n",
    "    \n",
    "    #print(num)\n",
    "\n",
    "    if (ele % num == 0 and ele != num):\n",
    "      Prime_Number = False\n",
    "      break\n",
    "    else:\n",
    "      Prime_Number = True\n",
    "      \n",
    "\n",
    "    num += 1\n",
    "\n",
    "  if (Prime_Number == True):\n",
    "    #print('Prime', ele)    \n",
    "    Prime_Number_List.append(ele)\n",
    "    \n",
    "    if (twin_prime_count == 2):\n",
    "      print('Twin Prime', First_Twin_Num, ele)\n",
    "      First_Twin_Num = ''\n",
    "      twin_prime_count = 1\n",
    "    else:\n",
    "      twin_prime_count = 1      \n",
    "      #print('Prime COunt = 1')\n",
    "      \n",
    "    First_Twin_Num = ele\n",
    "  else:\n",
    "    #print('not a Prime', ele)\n",
    "    twin_prime_count = twin_prime_count + 1\n",
    "    #print('Prime',twin_prime_count) \n",
    "    \n"
   ]
  },
  {
   "cell_type": "markdown",
   "metadata": {
    "id": "rytskXQF9G81"
   },
   "source": [
    "**3. Write a program to find out the prime factors of a number. Example: prime factors of 56 -\n",
    "2, 2, 2, 7**"
   ]
  },
  {
   "cell_type": "code",
   "execution_count": 5,
   "metadata": {
    "colab": {
     "base_uri": "https://localhost:8080/"
    },
    "id": "xsyRwjCNcE1p",
    "outputId": "f04a6a70-9050-443c-8927-423358b3cdbb"
   },
   "outputs": [
    {
     "name": "stdout",
     "output_type": "stream",
     "text": [
      "Enter the Number to fetch Prime Factors 56\n",
      "Prime Factors of the Given Number are  [2, 2, 2, 7]\n"
     ]
    }
   ],
   "source": [
    "Input_Num = int(input('Enter the Number to fetch Prime Factors '))\n",
    "#print(Input_Num)\n",
    "Prime_Factor_List = []\n",
    "ele = 0\n",
    "\n",
    "while(Input_Num > Prime_Number_List[0]):  \n",
    "  \n",
    "  if (Input_Num % Prime_Number_List[ele] == 0):\n",
    "    Prime_Factor_List.append(Prime_Number_List[ele])\n",
    "    #print(Input_Num / Prime_Number_List[ele])\n",
    "    Input_Num = Input_Num / Prime_Number_List[ele]\n",
    "  else:\n",
    "    ele += 1\n",
    "\n",
    "print('Prime Factors of the Given Number are ',Prime_Factor_List)"
   ]
  },
  {
   "cell_type": "markdown",
   "metadata": {
    "id": "6sedp4qZ9nq8"
   },
   "source": [
    "**4. Write a program to implement these formulae of permutations and combinations.\n",
    "Number of permutations of n objects taken r at a time: p(n, r) = n! / (n-r)!. Number of\n",
    "combinations of n objects taken r at a time is: c(n, r) = n! / (r!*(n-r)!) = p(n,r) / r!**"
   ]
  },
  {
   "cell_type": "code",
   "execution_count": 10,
   "metadata": {
    "colab": {
     "base_uri": "https://localhost:8080/"
    },
    "id": "YAPXy30OhDmv",
    "outputId": "37375edd-8e27-4854-c326-5f5cbe10c042"
   },
   "outputs": [
    {
     "name": "stdout",
     "output_type": "stream",
     "text": [
      "Enter number of Objects (value of n)5\n",
      "Enter number of time (value of r)3\n",
      "Number of permutations of 5 objects taken 3 at a time p(n,r) is 60.0\n",
      "Number of combinations of 5 objects taken 3 at a time c(n,r) is 10.0\n"
     ]
    }
   ],
   "source": [
    "def Factorial(num):\n",
    "  return 1 if (num == 1) else (num * Factorial(num -1))\n",
    "\n",
    "#num = 5\n",
    "#print (\"Factorial of {0} is {1}\".format(num,Factorial(num)))\n",
    "n = int(input(\"Enter number of Objects (value of n)\"))\n",
    "r = int(input(\"Enter number of time (value of r)\"))\n",
    "\n",
    "print(\"Number of permutations of {0} objects taken {1} at a time p(n,r) is {2}\".format(n,r,Factorial(n)/Factorial(n-r)))\n",
    "print(\"Number of combinations of {0} objects taken {1} at a time c(n,r) is {2}\".format(n,r,(Factorial(n)/Factorial(n-r))/Factorial(r)))"
   ]
  },
  {
   "cell_type": "markdown",
   "metadata": {
    "id": "0P8sPzNx97rR"
   },
   "source": [
    "**5. Write a function that converts a decimal number to binary number**"
   ]
  },
  {
   "cell_type": "code",
   "execution_count": 11,
   "metadata": {
    "colab": {
     "base_uri": "https://localhost:8080/"
    },
    "id": "0-I1T7JHuWxF",
    "outputId": "c7acbc91-7630-47b9-95ef-bc8866b049b8"
   },
   "outputs": [
    {
     "name": "stdout",
     "output_type": "stream",
     "text": [
      "Enter a decimal Number 50\n",
      "Binary equivalent of the given number is  110010\n"
     ]
    }
   ],
   "source": [
    "Input_Num = int(input(\"Enter a decimal Number \"))\n",
    "Binary_Num = ''\n",
    "Continue_Flag = True\n",
    "\n",
    "while(Continue_Flag == True):\n",
    "  Binary_Num = Binary_Num + str(Input_Num % 2)\n",
    "  Input_Num = int(Input_Num / 2)\n",
    "  if (Input_Num == 0):\n",
    "    Continue_Flag = False\n",
    "  #print(Binary_Num)\n",
    "  \n",
    "print(\"Binary equivalent of the given number is \n",
    "\",Binary_Num [::-1])"
   ]
  },
  {
   "cell_type": "markdown",
   "metadata": {
    "id": "TZD2rL2V-YD2"
   },
   "source": [
    "**6. Write a function cubesum() that accepts an integer and returns the sum of the cubes of\n",
    "individual digits of that number. Use this function to make functions PrintArmstrong() and\n",
    "isArmstrong() to print Armstrong numbers and to find whether is an Armstrong number.**"
   ]
  },
  {
   "cell_type": "markdown",
   "metadata": {
    "id": "FQ7xGMVi-gyh"
   },
   "source": [
    "**6.1 function cubesum() that accepts an integer and returns the sum of the cubes of individual digits of that number.**\n",
    "\n"
   ]
  },
  {
   "cell_type": "code",
   "execution_count": 16,
   "metadata": {
    "colab": {
     "base_uri": "https://localhost:8080/"
    },
    "id": "GdYTKZLmjgiY",
    "outputId": "00924c64-ef33-4969-d756-2b2e894b28cb"
   },
   "outputs": [
    {
     "name": "stdout",
     "output_type": "stream",
     "text": [
      "Enter a number 37\n",
      "Sum of Cube of all digits:  370\n"
     ]
    }
   ],
   "source": [
    "def cubesum(num):\n",
    "  Result = 0\n",
    "  Continue_Flag = True\n",
    "  while(Continue_Flag == True):\n",
    "    Result = Result + (num % 10) ** 3\n",
    "\n",
    "    num = int( num / 10 )\n",
    "\n",
    "    if num == 0:\n",
    "      Continue_Flag = False\n",
    "  #print ('Final', Result)\n",
    "  return Result\n",
    "\n",
    "\n",
    "print ('Sum of Cube of all digits: ', cubesum(int(input(\"Enter a number \"))))"
   ]
  },
  {
   "cell_type": "markdown",
   "metadata": {
    "id": "4KGON5-XAKnR"
   },
   "source": [
    "**6.2 PrintArmstrong function to print all Armstrong numbers upto given max range**"
   ]
  },
  {
   "cell_type": "code",
   "execution_count": 21,
   "metadata": {
    "colab": {
     "base_uri": "https://localhost:8080/"
    },
    "id": "G7nfEK4mtd70",
    "outputId": "bf883479-9252-4ef7-bcc2-dc16f81f8581"
   },
   "outputs": [
    {
     "name": "stdout",
     "output_type": "stream",
     "text": [
      "Enter the Max range number: 1000\n",
      "1\n",
      "153\n",
      "370\n",
      "371\n",
      "407\n"
     ]
    }
   ],
   "source": [
    "#import numpy as np\n",
    "\n",
    "def PrintArmstrong(num):\n",
    "\n",
    "  for ele in range(1,num):\n",
    "    if (isArmstrong(ele)):\n",
    "      print (ele)\n",
    "\n",
    "\n",
    "PrintArmstrong(int(input('Enter the Max range number: ')))"
   ]
  },
  {
   "cell_type": "markdown",
   "metadata": {
    "id": "wCh9z86o_xFM"
   },
   "source": [
    "**6.3 isArmstrong function to find out whether the given number is Prime or not** "
   ]
  },
  {
   "cell_type": "code",
   "execution_count": 23,
   "metadata": {
    "colab": {
     "base_uri": "https://localhost:8080/"
    },
    "id": "dj-YuqXTqqqN",
    "outputId": "985ea643-e13d-4062-a912-8130021917b0"
   },
   "outputs": [
    {
     "name": "stdout",
     "output_type": "stream",
     "text": [
      "Enter number to check Armstrong number or not 53\n",
      "False\n"
     ]
    }
   ],
   "source": [
    "def isArmstrong(num):\n",
    "  return True if (num == cubesum(num)) else False\n",
    "\n",
    "Input_num = int(input('Enter number to check Armstrong number or not '))\n",
    "\n",
    "print(isArmstrong(Input_num))"
   ]
  },
  {
   "cell_type": "markdown",
   "metadata": {
    "id": "zW9ewCkrBb-B"
   },
   "source": [
    "**7. Write a function prodDigits() that inputs a number and returns the product of digits of that\n",
    "number.**"
   ]
  },
  {
   "cell_type": "code",
   "execution_count": 27,
   "metadata": {
    "colab": {
     "base_uri": "https://localhost:8080/"
    },
    "id": "O3DuwY4z86qG",
    "outputId": "e3d0da7c-4ec4-4e1b-9650-82f4046a6d64"
   },
   "outputs": [
    {
     "name": "stdout",
     "output_type": "stream",
     "text": [
      "Enter a number: 342\n",
      "Product of all digits:  24\n"
     ]
    }
   ],
   "source": [
    "def proDigits(num):\n",
    "  Result = 1\n",
    "  Continue_Flag = True\n",
    "  while(Continue_Flag == True):\n",
    "    Result = Result * (num % 10)\n",
    "\n",
    "    num = int( num / 10 )\n",
    "\n",
    "    if num == 0:\n",
    "      Continue_Flag = False\n",
    "  #print ('Final', Result)\n",
    "  return Result\n",
    "\n",
    "\n",
    "print ('Product of all digits: ', proDigits(int(input(\"Enter a number: \"))))"
   ]
  },
  {
   "cell_type": "markdown",
   "metadata": {
    "id": "IyYjXBGXCIK0"
   },
   "source": [
    "**8. If all digits of a number n are multiplied by each other repeating with the product, the one\n",
    "digit number obtained at last is called the multiplicative digital root of n. The number of\n",
    "times digits need to be multiplied to reach one digit is called the multiplicative\n",
    "persistance of n.\n",
    "Example: 86 -> 48 -> 32 -> 6 (MDR 6, MPersistence 3)\n",
    " 341 -> 12->2 (MDR 2, MPersistence 2)\n",
    "Using the function prodDigits() of previous exercise write functions MDR() and\n",
    "MPersistence() that input a number and return its multiplicative digital root and\n",
    "multiplicative persistence respectively**"
   ]
  },
  {
   "cell_type": "code",
   "execution_count": 30,
   "metadata": {
    "colab": {
     "base_uri": "https://localhost:8080/"
    },
    "id": "EG9m2pdR-FU5",
    "outputId": "16d4f515-b8ee-4279-fef2-90877908eebd"
   },
   "outputs": [
    {
     "name": "stdout",
     "output_type": "stream",
     "text": [
      "Enter a number to find multiplicative digital root 341\n",
      "multiplicative digital root of this number is:  2\n"
     ]
    }
   ],
   "source": [
    "def MDR(num):\n",
    "  Count = 0\n",
    "  while(num >= 10):\n",
    "    num = proDigits(num)\n",
    "    #Count += 1\n",
    "  return num\n",
    "\n",
    "print('multiplicative digital root of this number is: ',MDR(int(input('Enter a number to find multiplicative digital root '))))\n"
   ]
  },
  {
   "cell_type": "code",
   "execution_count": 31,
   "metadata": {
    "colab": {
     "base_uri": "https://localhost:8080/"
    },
    "id": "lz9SxJjGBdWe",
    "outputId": "deaf6ef2-68a2-420b-c9a6-fae833bd0b57"
   },
   "outputs": [
    {
     "name": "stdout",
     "output_type": "stream",
     "text": [
      "Enter a number to find multiplicative persistence 341\n",
      "multiplicative persistence of this number is:  2\n"
     ]
    }
   ],
   "source": [
    "def MPersistence(num):\n",
    "  Count = 0\n",
    "  while(num >= 10):\n",
    "    num = proDigits(num)\n",
    "    Count += 1\n",
    "  return Count\n",
    "  \n",
    "print('multiplicative persistence of this number is: ',MPersistence(int(input('Enter a number to find multiplicative persistence '))))\n"
   ]
  },
  {
   "cell_type": "code",
   "execution_count": 33,
   "metadata": {
    "colab": {
     "base_uri": "https://localhost:8080/"
    },
    "id": "HRVpofODByhT",
    "outputId": "0e1f0c1d-d75b-4b70-e9e2-78403f696eba"
   },
   "outputs": [
    {
     "name": "stdout",
     "output_type": "stream",
     "text": [
      "Enter a number to find multiplicative persistence 341\n",
      "multiplicative digital root of this number is:  2\n",
      "multiplicative persistence of this number is:  2\n"
     ]
    }
   ],
   "source": [
    "#Combining both Functions into one\n",
    "\n",
    "def MDR_MPersistence(num):\n",
    "  Count = 0\n",
    "  while(num >= 10):\n",
    "    num = proDigits(num)\n",
    "    Count += 1\n",
    "  return num, Count\n",
    "  \n",
    "result = MDR_MPersistence(int(input('Enter a number to find multiplicative persistence ')))\n",
    "print('multiplicative digital root of this number is: ',result[0])\n",
    "print('multiplicative persistence of this number is: ', result[1])"
   ]
  },
  {
   "cell_type": "markdown",
   "metadata": {
    "id": "fqPFCkKGC-1S"
   },
   "source": [
    "**9. Write a function sumPdivisors() that finds the sum of proper divisors of a number. Proper\n",
    "divisors of a number are those numbers by which the number is divisible, except the\n",
    "number itself. For example proper divisors of 36 are 1, 2, 3, 4, 6, 9, 18**"
   ]
  },
  {
   "cell_type": "code",
   "execution_count": 36,
   "metadata": {
    "colab": {
     "base_uri": "https://localhost:8080/"
    },
    "id": "bR00iMi5DEiG",
    "outputId": "06e383c5-bac4-4191-a730-b3fefc5e3cb8"
   },
   "outputs": [
    {
     "name": "stdout",
     "output_type": "stream",
     "text": [
      "Enter a number to get the sum of all proper divisors 36\n",
      "Sum of all Proper Divisors is:  55\n"
     ]
    }
   ],
   "source": [
    "def sumPdivisors(num):\n",
    "  Result = 0\n",
    "  for ele in range(1,num):\n",
    "    if (num % ele == 0):\n",
    "      #print('Proper Divisor ', ele)\n",
    "      Result = Result + ele\n",
    "   \n",
    "  return Result\n",
    "\n",
    "print('Sum of all Proper Divisors is: ',sumPdivisors(int(input('Enter a number to get the sum of all proper divisors '))))"
   ]
  },
  {
   "cell_type": "markdown",
   "metadata": {
    "id": "MszAGc3qDi0K"
   },
   "source": [
    "**10. A number is called perfect if the sum of proper divisors of that number is equal to the\n",
    "number. For example 28 is perfect number, since 1+2+4+7+14=28. Write a program to\n",
    "print all the perfect numbers in a given range**"
   ]
  },
  {
   "cell_type": "code",
   "execution_count": 37,
   "metadata": {
    "colab": {
     "base_uri": "https://localhost:8080/"
    },
    "id": "Sb63ERguHMJC",
    "outputId": "723923ae-fecf-4909-ddde-5da91c1c023f"
   },
   "outputs": [
    {
     "name": "stdout",
     "output_type": "stream",
     "text": [
      "Enter the Max range number: 2000\n",
      "0\n",
      "6\n",
      "28\n",
      "496\n"
     ]
    }
   ],
   "source": [
    "import numpy as np\n",
    "\n",
    "def perfectNumbers(range):\n",
    "  for ele in np.arange(range):\n",
    "    if ele == sumPdivisors(ele):\n",
    "      print (ele)\n",
    "\n",
    "\n",
    "perfectNumbers(int(input('Enter the Max range number: ')))"
   ]
  },
  {
   "cell_type": "markdown",
   "metadata": {
    "id": "HYdCyd4nDxD9"
   },
   "source": [
    "**11. Two different numbers are called amicable numbers if the sum of the proper divisors of\n",
    "each is equal to the other number. For example 220 and 284 are amicable numbers.\n",
    "Sum of proper divisors of 220 = 1+2+4+5+10+11+20+22+44+55+110 = 284\n",
    "Sum of proper divisors of 284 = 1+2+4+71+142 = 220\n",
    "Write a function to print pairs of amicable numbers in a range**"
   ]
  },
  {
   "cell_type": "code",
   "execution_count": 38,
   "metadata": {
    "colab": {
     "base_uri": "https://localhost:8080/"
    },
    "id": "YPJ_fvuSJRL2",
    "outputId": "0a414723-d1d0-418a-ed47-14b91b4fd5eb"
   },
   "outputs": [
    {
     "name": "stdout",
     "output_type": "stream",
     "text": [
      "Enter a Range for amicable numbers 2000\n",
      "220 284\n",
      "284 220\n",
      "1184 1210\n",
      "1210 1184\n"
     ]
    }
   ],
   "source": [
    "def amicable(range):\n",
    "  for ele in np.arange(range):\n",
    "    Temp1 = sumPdivisors(ele)\n",
    "    Temp2 = sumPdivisors(Temp1)\n",
    "    if (ele == Temp2) and (ele != Temp1):  \n",
    "      print (ele, Temp1)  \n",
    "\n",
    "amicable(int(input('Enter a Range for amicable numbers ')))"
   ]
  },
  {
   "cell_type": "markdown",
   "metadata": {
    "id": "jS5yEFx3EIRy"
   },
   "source": [
    "**12. Write a program which can filter odd numbers in a list by using filter function**"
   ]
  },
  {
   "cell_type": "code",
   "execution_count": 40,
   "metadata": {
    "collapsed": true,
    "id": "z4VpcV4MuY60"
   },
   "outputs": [],
   "source": [
    "def even_number(num):\n",
    "  if num % 2 == 0:\n",
    "     return num"
   ]
  },
  {
   "cell_type": "code",
   "execution_count": 42,
   "metadata": {
    "colab": {
     "base_uri": "https://localhost:8080/"
    },
    "id": "AwnMx0Q1v_H-",
    "outputId": "ceabee99-4bb9-49d3-8f79-4f3d22cfbdce"
   },
   "outputs": [
    {
     "name": "stdout",
     "output_type": "stream",
     "text": [
      "[2, 4, 6, 8, 10, 12, 14, 16, 18, 20, 22, 24, 26, 28, 30, 32, 34, 36, 38, 40, 42, 44, 46, 48, 50, 52, 54, 56, 58, 60, 62, 64, 66, 68, 70, 72, 74, 76, 78, 80, 82, 84, 86, 88, 90, 92, 94, 96, 98]\n"
     ]
    }
   ],
   "source": [
    "Test_List = range(1,100)\n",
    "print(list(filter(even_number,Test_List)))\n",
    "\n"
   ]
  },
  {
   "cell_type": "markdown",
   "metadata": {
    "id": "ZuN3vZ4SEVwc"
   },
   "source": [
    "**13. Write a program which can map() to make a list whose elements are cube of elements in\n",
    "a given list**"
   ]
  },
  {
   "cell_type": "code",
   "execution_count": 43,
   "metadata": {
    "collapsed": true,
    "id": "B7ymwL2pxWD8"
   },
   "outputs": [],
   "source": [
    "def cube_func(num):\n",
    "  return num ** 3\n"
   ]
  },
  {
   "cell_type": "code",
   "execution_count": 46,
   "metadata": {
    "colab": {
     "base_uri": "https://localhost:8080/"
    },
    "id": "j80AJsxGxthS",
    "outputId": "c3847aef-5c94-451a-f721-c32d2c3095c9"
   },
   "outputs": [
    {
     "name": "stdout",
     "output_type": "stream",
     "text": [
      "Cube of all numbers\n",
      "[1, 8, 27, 64, 125, 216, 343, 512, 729, 1000, 1331, 1728, 2197, 2744, 3375, 4096, 4913, 5832, 6859, 8000, 9261, 10648, 12167, 13824, 15625, 17576, 19683, 21952, 24389, 27000, 29791, 32768, 35937, 39304, 42875, 46656, 50653, 54872, 59319, 64000, 68921, 74088, 79507, 85184, 91125, 97336, 103823, 110592, 117649, 125000, 132651, 140608, 148877, 157464, 166375, 175616, 185193, 195112, 205379, 216000, 226981, 238328, 250047, 262144, 274625, 287496, 300763, 314432, 328509, 343000, 357911, 373248, 389017, 405224, 421875, 438976, 456533, 474552, 493039, 512000, 531441, 551368, 571787, 592704, 614125, 636056, 658503, 681472, 704969, 729000, 753571, 778688, 804357, 830584, 857375, 884736, 912673, 941192, 970299]\n"
     ]
    }
   ],
   "source": [
    "Test_List = range(1,100)\n",
    "print(\"Cube of all numbers\")\n",
    "print(list(map(cube_func,Test_List)))"
   ]
  },
  {
   "cell_type": "markdown",
   "metadata": {
    "id": "epaLbbBNEeyF"
   },
   "source": [
    "**14. Write a program which can map() and filter() to make a list whose elements are cube of\n",
    "even number in a given list**"
   ]
  },
  {
   "cell_type": "code",
   "execution_count": 45,
   "metadata": {
    "colab": {
     "base_uri": "https://localhost:8080/"
    },
    "id": "ebvtGRlXybLK",
    "outputId": "f8229bd1-78fb-4d99-b5a4-0d24444cc0b6"
   },
   "outputs": [
    {
     "name": "stdout",
     "output_type": "stream",
     "text": [
      "Cube of Even Numbers\n",
      "[8, 64, 216, 512, 1000, 1728, 2744, 4096, 5832, 8000, 10648, 13824, 17576, 21952, 27000, 32768, 39304, 46656, 54872, 64000, 74088, 85184, 97336, 110592, 125000, 140608, 157464, 175616, 195112, 216000, 238328, 262144, 287496, 314432, 343000, 373248, 405224, 438976, 474552, 512000, 551368, 592704, 636056, 681472, 729000, 778688, 830584, 884736, 941192]\n"
     ]
    }
   ],
   "source": [
    "Test_List = range(1,100)\n",
    "Even_List = list(filter(even_number,Test_List))\n",
    "Cube_List = list(map(cube_func,Even_List))\n",
    "print(\"Cube of Even Numbers\")\n",
    "print (Cube_List)"
   ]
  }
 ],
 "metadata": {
  "colab": {
   "collapsed_sections": [],
   "name": "First Assignment.ipynb",
   "provenance": []
  },
  "kernelspec": {
   "display_name": "Python 3",
   "language": "python",
   "name": "python3"
  },
  "language_info": {
   "codemirror_mode": {
    "name": "ipython",
    "version": 3
   },
   "file_extension": ".py",
   "mimetype": "text/x-python",
   "name": "python",
   "nbconvert_exporter": "python",
   "pygments_lexer": "ipython3",
   "version": "3.6.1"
  }
 },
 "nbformat": 4,
 "nbformat_minor": 1
}
